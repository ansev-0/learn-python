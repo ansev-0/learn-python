{
 "cells": [
  {
   "cell_type": "markdown",
   "metadata": {},
   "source": [
    "## List Comprehension"
   ]
  },
  {
   "cell_type": "code",
   "execution_count": null,
   "metadata": {},
   "outputs": [
    {
     "name": "stdout",
     "output_type": "stream",
     "text": [
      "[0, 1, 2, 3, 4, 5, 6, 7, 8, 9]\n",
      "[0, 3, 6, 9, 12, 15, 18, 21, 24, 27]\n",
      "[0, 3, 6, 9, 12, 15, 18, 21, 24, 27]\n",
      "[0, 6, 12, 18, 24]\n",
      "[0, 6, 12, 18, 24]\n",
      "[0, 0, 6, 0, 12, 0, 18, 0, 24, 0]\n",
      "[0, 0, 6, 0, 12, 0, 18, 0, 24, 0]\n"
     ]
    }
   ],
   "source": [
    "# Create a List\n",
    "mylist = list(range(10))\n",
    "print(mylist)\n",
    "# [0, 1, 2, 3, 4, 5, 6, 7, 8, 9]\n",
    "\n",
    "new_list = []\n",
    "for value in mylist:\n",
    "    new_list.append(value*3)\n",
    "print(new_list)\n",
    "#[0, 3, 6, 9, 12, 15, 18, 21, 24, 27]\n",
    "# Use List comprehension instead\n",
    "new_list = [value * 3 for value in mylist]\n",
    "print(new_list)\n",
    "#[0, 3, 6, 9, 12, 15, 18, 21, 24, 27]\n",
    "\n",
    "# List Comprehension with if\n",
    "new_list = []\n",
    "for value in mylist:\n",
    "    if value *3 % 6 == 0:\n",
    "        new_list.append(value*3)\n",
    "print(new_list)\n",
    "#[0, 6, 12, 18, 24]\n",
    "# Use List comprehension instead\n",
    "new_list = [value * 3 \n",
    "            for value in mylist \n",
    "            if value*3 % 6 == 0]\n",
    "print(new_list)\n",
    "#[0, 6, 12, 18, 24]\n",
    "\n",
    "# List Comprehension with if else\n",
    "new_list = []\n",
    "for value in mylist:\n",
    "    if value*3 % 6 == 0:\n",
    "        new_list.append(value*3)\n",
    "    else:\n",
    "        new_list.append(0)\n",
    "print(new_list)\n",
    "#[0, 0, 6, 0, 12, 0, 18, 0, 24, 0]\n",
    "# Use List comprehension instead\n",
    "new_list = [value * 3 if value*3 % 6 == 0 else 0 \n",
    "            for value in mylist]\n",
    "print(new_list)\n",
    "#[0, 0, 6, 0, 12, 0, 18, 0, 24, 0]\n",
    "\n",
    "\n"
   ]
  },
  {
   "cell_type": "markdown",
   "metadata": {},
   "source": [
    "### Dict Comprehension"
   ]
  },
  {
   "cell_type": "code",
   "execution_count": null,
   "metadata": {},
   "outputs": [
    {
     "name": "stdout",
     "output_type": "stream",
     "text": [
      "{'a': 0, 'b': 1, 'c': 2, 'd': 3}\n",
      "{'a': 0, 'b': 3, 'c': 6, 'd': 9}\n",
      "{'a': 0, 'b': 3, 'c': 6, 'd': 9}\n",
      "{'a': 0, 'c': 6}\n",
      "{'a': 0, 'c': 6}\n",
      "{'a': 0, 'b': 0, 'c': 6, 'd': 0}\n",
      "{'a': 0, 'b': 0, 'c': 6, 'd': 0}\n"
     ]
    }
   ],
   "source": [
    "# Step 1: Create a Dict\n",
    "mydict = dict(zip(list(\"abcd\"), range(4)))\n",
    "print(mydict)\n",
    "# {'a': 0, 'b': 1, 'c': 2, 'd': 3}\n",
    "\n",
    "# Before see this post \n",
    "newdict = {}\n",
    "for key, value in mydict.items():\n",
    "    newdict[key] = value * 3\n",
    "print(newdict)\n",
    "# {'a': 0, 'b': 3, 'c': 6, 'd': 9}\n",
    "\n",
    "# After see this post\n",
    "\n",
    "newdict = {key: value * 3 \n",
    "           for key, value in mydict.items()}\n",
    "print(newdict)\n",
    "# {'a': 0, 'b': 3, 'c': 6, 'd': 9}\n",
    "\n",
    "# Before see this post\n",
    "newdict = {}\n",
    "for key, value in mydict.items():\n",
    "    if value * 3 % 6 == 0:\n",
    "        newdict[key] = value * 3\n",
    "print(newdict)\n",
    "# {'a': 0, 'c': 6}\n",
    "\n",
    "# After see this post\n",
    "newdict = {key: value * 3 \n",
    "           for key, value in mydict.items()\n",
    "           if value * 3 % 6 == 0}\n",
    "print(newdict)\n",
    "# {'a': 0, 'c': 6}\n",
    "\n",
    "# Before see this post\n",
    "newdict = {}\n",
    "for key, value in mydict.items():\n",
    "    if value *3 % 6 == 0:\n",
    "        newdict[key] = value * 3\n",
    "    else:\n",
    "        newdict[key] = 0\n",
    "print(newdict)\n",
    "# {'a': 0, 'b': 0, 'c': 6, 'd': 0}\n",
    "\n",
    "# After see this post\n",
    "newdict = {key: value * 3 if value*3 % 6 == 0 \n",
    "           else 0\n",
    "           for key, value in mydict.items()\n",
    "           }\n",
    "print(newdict)\n",
    "# {'a': 0, 'b': 0, 'c': 6, 'd': 0}"
   ]
  },
  {
   "cell_type": "code",
   "execution_count": null,
   "metadata": {},
   "outputs": [],
   "source": []
  }
 ],
 "metadata": {
  "kernelspec": {
   "display_name": "graphrag",
   "language": "python",
   "name": "python3"
  },
  "language_info": {
   "codemirror_mode": {
    "name": "ipython",
    "version": 3
   },
   "file_extension": ".py",
   "mimetype": "text/x-python",
   "name": "python",
   "nbconvert_exporter": "python",
   "pygments_lexer": "ipython3",
   "version": "3.10.15"
  }
 },
 "nbformat": 4,
 "nbformat_minor": 2
}
